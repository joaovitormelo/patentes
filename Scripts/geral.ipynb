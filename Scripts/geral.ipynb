{
 "cells": [
  {
   "cell_type": "code",
   "execution_count": 1,
   "metadata": {},
   "outputs": [],
   "source": [
    "#GERA ARQUIVOS DE ARESTAS E NÓS DE 1980 A 2019 (GERAL)"
   ]
  },
  {
   "cell_type": "code",
   "execution_count": 2,
   "metadata": {},
   "outputs": [],
   "source": [
    "import lxml.etree as tree\n",
    "from unidecode import unidecode\n",
    "from nltk.corpus import stopwords\n",
    "from nltk.tokenize import word_tokenize\n",
    "from nltk.stem.snowball import SnowballStemmer\n",
    "import os\n",
    "import itertools\n",
    "import time"
   ]
  },
  {
   "cell_type": "code",
   "execution_count": 3,
   "metadata": {},
   "outputs": [],
   "source": [
    "#Parte constante em todos os caminhos do codigo (adaptar à organização de pasta)\n",
    "#cosnt_path deve ser o caminho para a pasta principal (pode ser relativo, a partir da pasta onde esta\n",
    "#o arquivo de codigo), onde deverao haver as pastas: Nodes, Edges e Arquivos\n",
    "\n",
    "const_path = '..'"
   ]
  },
  {
   "cell_type": "code",
   "execution_count": 4,
   "metadata": {},
   "outputs": [],
   "source": [
    "def open_files(isEdges, isNodes):\n",
    "    for i in range(1989, 2020, 5):\n",
    "        #os.startfile(os.sep.join(['nodes', str(1980) + '-' + str(i) + '.csv']))\n",
    "        os.startfile(os.sep.join([const_path, 'Edges', str(1980) + '-' + str(i) + '.csv']))"
   ]
  },
  {
   "cell_type": "code",
   "execution_count": 5,
   "metadata": {},
   "outputs": [],
   "source": [
    "def make_geral(isEdges, isNodes):\n",
    "    names = [str(y) + '-' + str(y + 4) + '.csv' for y in range(1980, 2020, 5)]\n",
    "    for i in range(1, len(names)):\n",
    "        nome = '1980' + names[i][4:]\n",
    "        with open(os.sep.join([const_path, 'Edges', nome]), 'w') as edges:\n",
    "            edges.write('Source;Target')\n",
    "            if isNodes:\n",
    "                with open(os.sep.join([const_path, 'Nodes', nome]), 'w') as nodes:\n",
    "                    nodes.write('Id;Nome;Num.Patentes;Formacao;GrandeArea;Area;Instituicao;Pais;Estado;Cidade;Q.ArtigosPublicados;Q.TrabalhosEmCongressos;Q.TrabalhosTecnicos;Q.Orientacoes;Q.TesesDoutorado;Q.DissertacaoMestrado;Q.TCC;Q.IC\\n')\n",
    "            for name in names[:i+1]:\n",
    "                if isEdges:\n",
    "                    with open(os.sep.join([const_path, 'Edges', name]), 'r') as f:\n",
    "                        text = f.read()\n",
    "                    lines = text.split('\\n')[1:-1]\n",
    "                    final = '\\n' + '\\n'.join(lines)\n",
    "                    edges.write(final)\n",
    "                if isNodes:\n",
    "                    with open(os.sep.join([const_path, 'Nodes', name]), 'r') as f:\n",
    "                        text = f.read()\n",
    "                    lines = text.split('\\n')[1:-1]\n",
    "                    data = [node.split(';')[0] for node in lines]\n",
    "                    dictNodes = [(data[i], lines[i]) for i in range(len(data))]\n",
    "                    with open(os.sep.join([const_path, 'Nodes', nome]), 'r') as nodes:\n",
    "                        already = [node.split(';')[0] for node in nodes.read().split('\\n')[1:-1]]\n",
    "                    with open(os.sep.join([const_path, 'Nodes', nome]), 'a') as nodes:\n",
    "                        for i in range(len(dictNodes)):\n",
    "                            if dictNodes[i][0] not in already:\n",
    "                                nodes.write(dictNodes[i][1]+'\\n')"
   ]
  },
  {
   "cell_type": "code",
   "execution_count": 6,
   "metadata": {
    "scrolled": false
   },
   "outputs": [],
   "source": [
    "make_geral(True, True)"
   ]
  },
  {
   "cell_type": "code",
   "execution_count": 7,
   "metadata": {},
   "outputs": [],
   "source": [
    "open_files(True, True)"
   ]
  },
  {
   "cell_type": "code",
   "execution_count": 8,
   "metadata": {},
   "outputs": [],
   "source": [
    "#EXTRA - CALCULA QUANTOS PESQUISADORES COM PATENTES EXISTEM. FEITO PRA VERIFICAR SE O NUMERO DE NÓS ESTÁ CORRETO.\n",
    "def calcula_pesquisadores_c_patente():\n",
    "    folders = []\n",
    "    numPesquisadores = 0\n",
    "    for root, dirs, files in os.walk(os.sep.join([const_path, \"Arquivos\"])):\n",
    "        folders = dirs[1:101]\n",
    "        break\n",
    "    for i in range(len(folders)):\n",
    "        print(folders[i])\n",
    "        subFolders = []\n",
    "        for root, dirs, files in os.walk(os.sep.join([const_path, \"Arquivos\", folders[i]])):\n",
    "            subFolders = dirs\n",
    "            break\n",
    "        for subFolder in subFolders:\n",
    "            path = os.sep.join([const_path, \"Arquivos\", folders[i], subFolder, 'curriculo.xml'])\n",
    "            xml = tree.parse(path)\n",
    "            if len(xml.xpath('//PATENTE/DADOS-BASICOS-DA-PATENTE[@ANO-DESENVOLVIMENTO >= 1980]')) > 0:\n",
    "                numPesquisadores += 1\n",
    "    print(numPesquisadores)"
   ]
  },
  {
   "cell_type": "code",
   "execution_count": null,
   "metadata": {},
   "outputs": [],
   "source": [
    " def geral():\n",
    "    global const_path\n",
    "    const_path = input('Insira o caminho constante para a pasta principal (pode ser relativo da pasta onde está o código ou absoluto)')\n",
    "\n",
    "    try:\n",
    "        calcula_pesquisadores_c_patente()\n",
    "    except:\n",
    "        print('Processo interrompido!')\n",
    "        \n",
    "    #descobrir se quant de arestas do geral esta certa (mostra soma da quant de arestas dos periodos para que seja comparada com quant de arestas do geral - olhando no csv do geral)\n",
    "    arestas = 0\n",
    "    for i in range(1980, 2016, 5):\n",
    "        with open(os.sep.join([const_path, 'Edges', str(i) + '-' + str(i+4) + '.csv']), 'r') as f:\n",
    "            leng = len(f.read().split('\\n')[1:-1])\n",
    "            arestas += leng\n",
    "    print(arestas)"
   ]
  },
  {
   "cell_type": "code",
   "execution_count": null,
   "metadata": {},
   "outputs": [
    {
     "name": "stdout",
     "output_type": "stream",
     "text": [
      "Insira o caminho constante para a pasta principal (pode ser relativo da pasta onde está o código ou absoluto)..\n",
      "00\n",
      "01\n",
      "02\n",
      "03\n",
      "04\n",
      "05\n",
      "06\n",
      "07\n"
     ]
    }
   ],
   "source": [
    "geral()"
   ]
  },
  {
   "cell_type": "code",
   "execution_count": null,
   "metadata": {},
   "outputs": [],
   "source": []
  }
 ],
 "metadata": {
  "kernelspec": {
   "display_name": "Python 3",
   "language": "python",
   "name": "python3"
  },
  "language_info": {
   "codemirror_mode": {
    "name": "ipython",
    "version": 3
   },
   "file_extension": ".py",
   "mimetype": "text/x-python",
   "name": "python",
   "nbconvert_exporter": "python",
   "pygments_lexer": "ipython3",
   "version": "3.7.3"
  }
 },
 "nbformat": 4,
 "nbformat_minor": 2
}
