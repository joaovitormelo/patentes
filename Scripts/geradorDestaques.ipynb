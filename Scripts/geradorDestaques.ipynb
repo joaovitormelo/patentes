{
 "cells": [
  {
   "cell_type": "code",
   "execution_count": 3,
   "metadata": {},
   "outputs": [],
   "source": [
    "import os"
   ]
  },
  {
   "cell_type": "code",
   "execution_count": 4,
   "metadata": {},
   "outputs": [],
   "source": [
    "#Parte constante em todos os caminhos do codigo (adaptar à organização de pasta)\n",
    "#cosnt_path deve ser o caminho para a pasta principal (pode ser relativo, a partir da pasta onde esta\n",
    "#o arquivo de codigo), onde deverao haver as pastas: Nodes, Edges e Arquivos\n",
    "\n",
    "const_path = '..'"
   ]
  },
  {
   "cell_type": "code",
   "execution_count": 5,
   "metadata": {},
   "outputs": [],
   "source": [
    "def sort(nodes, x):\n",
    "    for i in range(len(nodes)-1):\n",
    "        index = i\n",
    "        for j in range(i+1, len(nodes)):\n",
    "            if (int(nodes[j][x]) > int(nodes[index][x])):\n",
    "                index = j\n",
    "        aux = nodes[index]\n",
    "        nodes[index] = nodes[i]\n",
    "        nodes[i] = aux"
   ]
  },
  {
   "cell_type": "code",
   "execution_count": 6,
   "metadata": {},
   "outputs": [],
   "source": [
    "with open(os.sep.join([const_path, 'Nodes', '1980-2019.csv']), 'r') as f:\n",
    "    nodes = [x.split(';') for x in f.read().split('\\n')[1:-1]]"
   ]
  },
  {
   "cell_type": "code",
   "execution_count": 7,
   "metadata": {
    "scrolled": true
   },
   "outputs": [],
   "source": [
    "def destaques():\n",
    "    global const_path, nodes\n",
    "    const_path = input('Insira o caminho constante para a pasta principal (pode ser relativo da pasta onde está o código ou absoluto)\\n')\n",
    "    collumns = [2, 10, 11, 12, 14, 15]\n",
    "    filenames = ['Patentes', 'Artigos Publicados', 'Trabalhos em Congressos', 'Trabalhos Tecnicos', 'Teses de Doutorado', 'Dissertacoes de Mestrado']\n",
    "    for x in range(len(collumns)):\n",
    "        sort(nodes, collumns[x])\n",
    "        with open(os.sep.join([const_path, 'Visualizacao', 'Destaques', filenames[x]+'.csv']), 'w') as f:\n",
    "            f.write('20 PESSOAS COM MAIOR NUMERO DE ' + filenames[x].upper() + '\\n' + 'Id;Nome;Area;Instituicao;' + filenames[x] + '\\n')\n",
    "            for i in range(1, 21):\n",
    "                f.write(nodes[i-1][0] + ';' + nodes[i-1][1] + ';' + nodes[i-1][5] + ';' + nodes[i-1][6] + ';' + nodes[i-1][collumns[x]] + '\\n')\n",
    "    grau()\n",
    "    filenames.append('Grau')\n",
    "    for file in filenames:\n",
    "        os.startfile(os.sep.join([const_path, 'Visualizacao', 'Destaques', file+'.csv']))"
   ]
  },
  {
   "cell_type": "code",
   "execution_count": 8,
   "metadata": {},
   "outputs": [],
   "source": [
    "def grau():\n",
    "    ids = [(dados[:17], dados[17:]) for dados in input('Forneça Entrada - ids dos 20 inventores com maior grau separados por espaços:\\n').split(' ')]\n",
    "    with open(os.sep.join([const_path, 'Visualizacao', 'Destaques', 'Grau.csv']), 'w') as f:\n",
    "        f.write('20 PESSOAS COM MAIOR GRAU\\nId;Nome;Area;Instituicao;Grau\\n')\n",
    "    with open(os.sep.join([const_path, 'Visualizacao', 'Destaques', 'Grau.csv']), 'a') as f:\n",
    "        for i in range(len(ids)):\n",
    "            for node in nodes:\n",
    "                if (node[0] == ids[i][0]):\n",
    "                    f.write(node[0] + ';' + node[1] + ';' + node[5] + ';' + node[6] + ';' + ids[i][1] + '\\n')\n",
    "        "
   ]
  },
  {
   "cell_type": "code",
   "execution_count": 9,
   "metadata": {},
   "outputs": [
    {
     "name": "stdout",
     "output_type": "stream",
     "text": [
      "Insira o caminho constante para a pasta principal (pode ser relativo da pasta onde está o código ou absoluto)\n",
      "..\n",
      "Forneça Entrada - ids dos 20 inventores com maior grau separados por espaços:\n",
      "4087752487104746*43 2365059843175411*41 6479420970768737*37 3129798508009056*37 5284295521212505*35 9203771116907153*33 5768000922241088*32 1221789114690533*31 3831923854387307*30 0351658283986781*29 5436713663763286*29 5934458385325202*28 1942930894399604*27 9848311210578810*27 0692818548181755*26 0778544146240523*26 3181772060208133*26 0050402182466103*25 6034251420222926*24 7992694643607149*24\n"
     ]
    }
   ],
   "source": [
    "destaques()"
   ]
  },
  {
   "cell_type": "code",
   "execution_count": null,
   "metadata": {},
   "outputs": [],
   "source": []
  }
 ],
 "metadata": {
  "kernelspec": {
   "display_name": "Python 3",
   "language": "python",
   "name": "python3"
  },
  "language_info": {
   "codemirror_mode": {
    "name": "ipython",
    "version": 3
   },
   "file_extension": ".py",
   "mimetype": "text/x-python",
   "name": "python",
   "nbconvert_exporter": "python",
   "pygments_lexer": "ipython3",
   "version": "3.7.3"
  }
 },
 "nbformat": 4,
 "nbformat_minor": 2
}
